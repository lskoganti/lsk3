{
 "cells": [
  {
   "cell_type": "markdown",
   "id": "f84f51eb-010a-4964-b853-e7c9446c5621",
   "metadata": {
    "tags": []
   },
   "source": [
    "## In Class Activity 2\n",
    "\n",
    "**Group 6** : *Daniel Kim, Madeline Tibaldi, Jifei Xiao, Logan Knight, Lekha Koganti*\n"
   ]
  },
  {
   "cell_type": "markdown",
   "id": "da52b42d-7d5c-4361-9d7d-bec52cea2222",
   "metadata": {},
   "source": [
    " ### Defining\n",
    " * *temporal coding*: information is encoded through the specific timing of action potentials, usually used for short-term stimuli\n",
    " * *rate coding*: information is encoded through through the frequency of action potentials, usually used to indicate differences in stimulus intensity\n",
    " * *latency coding*: information is encoded by the amount of delay between the stimulus and first action potential production, usually used for rapid stimulus encoding and response\n",
    " * *synchronous coding*: information is encoded by the firing of multiple neurons at the same time\n",
    " * *tuning curves*: information is encoded by changes in neuronal firing rate in responses to various characteristics of the stimulus\n",
    " * *population codes*: information is encoded by the collective responses of a population of neurons to a specific stimuli"
   ]
  },
  {
   "cell_type": "markdown",
   "id": "8794c743-c186-4e80-bce2-e46f5cb38f06",
   "metadata": {},
   "source": []
  }
 ],
 "metadata": {
  "kernelspec": {
   "display_name": "Python 3 (ipykernel)",
   "language": "python",
   "name": "python3"
  },
  "language_info": {
   "codemirror_mode": {
    "name": "ipython",
    "version": 3
   },
   "file_extension": ".py",
   "mimetype": "text/x-python",
   "name": "python",
   "nbconvert_exporter": "python",
   "pygments_lexer": "ipython3",
   "version": "3.11.5"
  }
 },
 "nbformat": 4,
 "nbformat_minor": 5
}
